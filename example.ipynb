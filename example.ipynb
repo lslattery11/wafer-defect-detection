{
 "cells": [
  {
   "cell_type": "code",
   "execution_count": null,
   "metadata": {},
   "outputs": [],
   "source": []
  },
  {
   "cell_type": "markdown",
   "metadata": {},
   "source": [
    "In this notebook, I outline the process for training a ML model to detect defects in silicon wafers. I originally found the data from an old paper https://www.sciencedirect.com/science/article/abs/pii/S0167931704005374. The raw data can be found at https://huggingface.co/datasets/lslattery/wafer-defect-detection/blob/main/LSWMD.pkl."
   ]
  },
  {
   "cell_type": "markdown",
   "metadata": {},
   "source": []
  }
 ],
 "metadata": {
  "kernelspec": {
   "display_name": "Python 3.9.7 ('env': venv)",
   "language": "python",
   "name": "python3"
  },
  "language_info": {
   "name": "python",
   "version": "3.9.7"
  },
  "orig_nbformat": 4,
  "vscode": {
   "interpreter": {
    "hash": "c4c643869c057a33c07a404a86ca28ecc549f16cbf899ad2f8ba070c0ad42a4c"
   }
  }
 },
 "nbformat": 4,
 "nbformat_minor": 2
}

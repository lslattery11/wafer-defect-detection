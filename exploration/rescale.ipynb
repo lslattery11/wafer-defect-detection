{
 "cells": [
  {
   "cell_type": "code",
   "execution_count": null,
   "metadata": {},
   "outputs": [],
   "source": [
    "import numpy as np\n",
    "import pandas as pd\n",
    "import torch\n",
    "import wandb\n",
    "import torchvision.transforms as T\n",
    "import matplotlib.pyplot as plt\n",
    "from huggingface_hub import hf_hub_download\n",
    "from torch.utils.data import WeightedRandomSampler\n",
    "import torchmetrics\n",
    "\n",
    "from sklearn.model_selection import train_test_split\n",
    "\n",
    "from wdd.data_handling.process_data import threshold_data\n",
    "from wdd.data_handling.pull_data import get_processed_data\n",
    "from wdd.model.cnn_spp import CNN_SPP_Net,cnn_spp_hypDict\n",
    "from wdd.data_handling.torch_dataset import WaferDataset\n",
    "from wdd.data_handling.augment_data import wafer_train_transforms\n"
   ]
  },
  {
   "cell_type": "code",
   "execution_count": null,
   "metadata": {},
   "outputs": [],
   "source": [
    "cnn_channels=(1,3)\n",
    "spp_output_sizes=[(1,1),(3,3)]\n",
    "linear_dims=(9)\n",
    "model_parameters={'cnn_channels':cnn_channels,'spp_output_sizes':spp_output_sizes,'linear_output_sizes':linear_dims}\n",
    "net=CNN_SPP_Net(model_parameters)\n",
    "net.init_weights()"
   ]
  },
  {
   "cell_type": "code",
   "execution_count": null,
   "metadata": {},
   "outputs": [],
   "source": [
    "train_df,test_df=get_processed_data()\n",
    "#split train\n",
    "train_df,valid_df=train_test_split(train_df, test_size=0.2,random_state=42)"
   ]
  },
  {
   "cell_type": "code",
   "execution_count": null,
   "metadata": {},
   "outputs": [],
   "source": [
    "training_set=WaferDataset(train_df,transform=wafer_train_transforms(0.0))\n",
    "valid_set=WaferDataset(valid_df)"
   ]
  },
  {
   "cell_type": "code",
   "execution_count": null,
   "metadata": {},
   "outputs": [],
   "source": [
    "test_set=WaferDataset(test_df)"
   ]
  },
  {
   "cell_type": "code",
   "execution_count": null,
   "metadata": {},
   "outputs": [],
   "source": [
    "class_weights=torch.Tensor([1/training_set.len])*torch.Tensor([training_set.y.count(i) for i in range(9)])\n",
    "assert(np.isclose(class_weights.sum(),1)),'class_weights must sum to be one'\n",
    "\n",
    "sample_weights=torch.Tensor([1/class_weights[i] for i in training_set.y])\n",
    "\n",
    "sampler=WeightedRandomSampler(weights=sample_weights,num_samples=len(sample_weights))"
   ]
  },
  {
   "cell_type": "code",
   "execution_count": null,
   "metadata": {},
   "outputs": [],
   "source": [
    "valid_class_weights=torch.Tensor([1/valid_set.len])*torch.Tensor([valid_set.y.count(i) for i in range(9)])\n",
    "assert(np.isclose(valid_class_weights.sum(),1)),'valid_class_weights must sum to be one'"
   ]
  },
  {
   "cell_type": "code",
   "execution_count": null,
   "metadata": {},
   "outputs": [],
   "source": [
    "training_loader = torch.utils.data.DataLoader(training_set, batch_size=1 , num_workers=0,sampler=sampler)"
   ]
  },
  {
   "cell_type": "code",
   "execution_count": null,
   "metadata": {},
   "outputs": [],
   "source": [
    "valid_loader = torch.utils.data.DataLoader(valid_set, batch_size=1, shuffle=True, num_workers=0)"
   ]
  },
  {
   "cell_type": "code",
   "execution_count": null,
   "metadata": {},
   "outputs": [],
   "source": [
    "test_loader = torch.utils.data.DataLoader(test_set, batch_size=1, shuffle=True, num_workers=0)"
   ]
  },
  {
   "cell_type": "code",
   "execution_count": null,
   "metadata": {},
   "outputs": [],
   "source": [
    "from torch.optim import Adam\n",
    " \n",
    "# Define the loss function with Classification Cross-Entropy loss and an optimizer with Adam optimizer\n",
    "train_loss_fn = torch.nn.CrossEntropyLoss()\n",
    "valid_loss_fn = torch.nn.CrossEntropyLoss(weight=valid_class_weights.reciprocal())\n",
    "optimizer = Adam(net.parameters(), lr=0.001, weight_decay=0.0001)"
   ]
  },
  {
   "cell_type": "code",
   "execution_count": null,
   "metadata": {},
   "outputs": [],
   "source": [
    "from wdd.model.model_training import train_model\n",
    "\n",
    "train_model(\n",
    "    net,\n",
    "    training_loader,\n",
    "    valid_loader,\n",
    "    train_loss_fn,\n",
    "    valid_loss_fn,\n",
    "    optimizer,\n",
    "    epochs=1\n",
    ")"
   ]
  },
  {
   "cell_type": "code",
   "execution_count": null,
   "metadata": {},
   "outputs": [],
   "source": [
    "y_trues,y_preds,y_pred_probs = net.predict(test_loader)"
   ]
  },
  {
   "cell_type": "code",
   "execution_count": null,
   "metadata": {},
   "outputs": [],
   "source": [
    "acc=torchmetrics.Accuracy(num_classes=9,average='micro')\n",
    "bacc=torchmetrics.Accuracy(num_classes=9,average='macro')\n",
    "by_class_acc=torchmetrics.Accuracy(num_classes=9,average='none')\n",
    "f1=torchmetrics.F1Score(num_classes=9,average='micro')\n",
    "bf1=torchmetrics.F1Score(num_classes=9,average='macro')\n",
    "by_class_f1=torchmetrics.F1Score(num_classes=9,average='none')\n"
   ]
  },
  {
   "cell_type": "code",
   "execution_count": null,
   "metadata": {},
   "outputs": [],
   "source": [
    "acc(y_trues,y_preds)"
   ]
  },
  {
   "cell_type": "code",
   "execution_count": null,
   "metadata": {},
   "outputs": [],
   "source": [
    "by_class_acc(y_trues,y_preds)"
   ]
  },
  {
   "cell_type": "code",
   "execution_count": null,
   "metadata": {},
   "outputs": [],
   "source": [
    "f1(y_trues,y_preds)"
   ]
  },
  {
   "cell_type": "code",
   "execution_count": null,
   "metadata": {},
   "outputs": [],
   "source": [
    "bf1(y_trues,y_preds)"
   ]
  },
  {
   "cell_type": "code",
   "execution_count": null,
   "metadata": {},
   "outputs": [],
   "source": [
    "by_class_f1(y_trues,y_preds)"
   ]
  },
  {
   "cell_type": "code",
   "execution_count": null,
   "metadata": {},
   "outputs": [],
   "source": [
    "tuple(9*2**((i-1)) for i in range(5,0,-1))"
   ]
  },
  {
   "cell_type": "code",
   "execution_count": null,
   "metadata": {},
   "outputs": [],
   "source": [
    "(3-1)//2"
   ]
  },
  {
   "cell_type": "code",
   "execution_count": null,
   "metadata": {},
   "outputs": [],
   "source": [
    "[(1+2*i,1+2*i) for i in range(3)]"
   ]
  },
  {
   "cell_type": "code",
   "execution_count": null,
   "metadata": {},
   "outputs": [],
   "source": [
    "type(valid_loss_fn)"
   ]
  },
  {
   "cell_type": "code",
   "execution_count": null,
   "metadata": {},
   "outputs": [],
   "source": [
    "type(valid_loader)"
   ]
  },
  {
   "cell_type": "code",
   "execution_count": null,
   "metadata": {},
   "outputs": [],
   "source": []
  }
 ],
 "metadata": {
  "kernelspec": {
   "display_name": "Python 3.9.7 ('env': venv)",
   "language": "python",
   "name": "python3"
  },
  "language_info": {
   "codemirror_mode": {
    "name": "ipython",
    "version": 3
   },
   "file_extension": ".py",
   "mimetype": "text/x-python",
   "name": "python",
   "nbconvert_exporter": "python",
   "pygments_lexer": "ipython3",
   "version": "3.9.7"
  },
  "orig_nbformat": 4,
  "vscode": {
   "interpreter": {
    "hash": "c4c643869c057a33c07a404a86ca28ecc549f16cbf899ad2f8ba070c0ad42a4c"
   }
  }
 },
 "nbformat": 4,
 "nbformat_minor": 2
}

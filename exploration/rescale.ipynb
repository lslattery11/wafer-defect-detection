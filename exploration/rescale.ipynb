{
 "cells": [
  {
   "cell_type": "code",
   "execution_count": 59,
   "metadata": {},
   "outputs": [],
   "source": [
    "import numpy as np\n",
    "import pandas as pd\n",
    "import torch\n",
    "import wandb\n",
    "import torchvision.transforms as T\n",
    "import matplotlib.pyplot as plt\n",
    "from huggingface_hub import hf_hub_download\n",
    "from torch.utils.data import WeightedRandomSampler\n",
    "import torchmetrics\n",
    "\n",
    "from sklearn.model_selection import train_test_split\n",
    "\n",
    "from wdd.data_handling.process_data import threshold_data\n",
    "from wdd.data_handling.pull_data import get_processed_data\n",
    "from wdd.model.cnn_spp import CNN_SPP_Net,cnn_spp_hypDict\n",
    "from wdd.data_handling.torch_dataset import WaferDataset\n",
    "from wdd.data_handling.augment_data import wafer_train_transforms\n"
   ]
  },
  {
   "cell_type": "code",
   "execution_count": 60,
   "metadata": {},
   "outputs": [],
   "source": [
    "cnn_channels=(1,3,6,12)\n",
    "spp_output_sizes=[(1,1),(3,3),(5,5)]\n",
    "linear_dims=(30,15,9)\n",
    "model_parameters={'cnn_channels':cnn_channels,'spp_output_sizes':spp_output_sizes,'linear_output_sizes':linear_dims}\n",
    "net=CNN_SPP_Net(model_parameters)\n",
    "net.init_weights()"
   ]
  },
  {
   "cell_type": "code",
   "execution_count": 4,
   "metadata": {},
   "outputs": [],
   "source": [
    "train_df,test_df=get_processed_data()\n",
    "#split train\n",
    "train_df,valid_df=train_test_split(train_df, test_size=0.2,random_state=42)"
   ]
  },
  {
   "cell_type": "code",
   "execution_count": 5,
   "metadata": {},
   "outputs": [],
   "source": [
    "training_set=WaferDataset(train_df,transform=wafer_train_transforms(0.0))\n",
    "valid_set=WaferDataset(valid_df)"
   ]
  },
  {
   "cell_type": "code",
   "execution_count": 6,
   "metadata": {},
   "outputs": [],
   "source": [
    "test_set=WaferDataset(test_df)"
   ]
  },
  {
   "cell_type": "code",
   "execution_count": 7,
   "metadata": {},
   "outputs": [],
   "source": [
    "class_weights=torch.Tensor([1/training_set.len])*torch.Tensor([training_set.y.count(i) for i in range(9)])\n",
    "assert(np.isclose(class_weights.sum(),1)),'class_weights must sum to be one'\n",
    "\n",
    "sample_weights=torch.Tensor([1/class_weights[i] for i in training_set.y])\n",
    "\n",
    "sampler=WeightedRandomSampler(weights=sample_weights,num_samples=len(sample_weights))"
   ]
  },
  {
   "cell_type": "code",
   "execution_count": 8,
   "metadata": {},
   "outputs": [],
   "source": [
    "valid_class_weights=torch.Tensor([1/valid_set.len])*torch.Tensor([valid_set.y.count(i) for i in range(9)])\n",
    "assert(np.isclose(valid_class_weights.sum(),1)),'valid_class_weights must sum to be one'"
   ]
  },
  {
   "cell_type": "code",
   "execution_count": 9,
   "metadata": {},
   "outputs": [],
   "source": [
    "training_loader = torch.utils.data.DataLoader(training_set, batch_size=1 , num_workers=0,sampler=sampler)"
   ]
  },
  {
   "cell_type": "code",
   "execution_count": 10,
   "metadata": {},
   "outputs": [],
   "source": [
    "valid_loader = torch.utils.data.DataLoader(valid_set, batch_size=1, shuffle=True, num_workers=0)"
   ]
  },
  {
   "cell_type": "code",
   "execution_count": 11,
   "metadata": {},
   "outputs": [],
   "source": [
    "test_loader = torch.utils.data.DataLoader(test_set, batch_size=1, shuffle=True, num_workers=0)"
   ]
  },
  {
   "cell_type": "code",
   "execution_count": 12,
   "metadata": {},
   "outputs": [],
   "source": [
    "from torch.optim import Adam\n",
    " \n",
    "# Define the loss function with Classification Cross-Entropy loss and an optimizer with Adam optimizer\n",
    "train_loss_fn = torch.nn.CrossEntropyLoss()\n",
    "valid_loss_fn = torch.nn.CrossEntropyLoss(weight=valid_class_weights.reciprocal())\n",
    "optimizer = Adam(net.parameters(), lr=0.001, weight_decay=0.0001)"
   ]
  },
  {
   "cell_type": "code",
   "execution_count": 13,
   "metadata": {},
   "outputs": [
    {
     "name": "stdout",
     "output_type": "stream",
     "text": [
      "EPOCH 1:\n",
      "LOSS train 3.9106830650756264 valid 1.92219078540802\n",
      "EPOCH 2:\n",
      "LOSS train 2.6111099877962496 valid 1.2526944875717163\n",
      "EPOCH 3:\n",
      "LOSS train 1.9641822745589794 valid 0.9713939428329468\n",
      "EPOCH 4:\n",
      "LOSS train 1.7516204972800673 valid 0.9831929802894592\n",
      "EPOCH 5:\n",
      "LOSS train 1.6111272861566168 valid 0.928584098815918\n"
     ]
    }
   ],
   "source": [
    "from wdd.model.model_training import train_model\n",
    "\n",
    "train_model(\n",
    "    net,\n",
    "    training_loader,\n",
    "    valid_loader,\n",
    "    train_loss_fn,\n",
    "    valid_loss_fn,\n",
    "    optimizer,\n",
    "    epochs=5\n",
    ")"
   ]
  },
  {
   "cell_type": "code",
   "execution_count": 14,
   "metadata": {},
   "outputs": [
    {
     "name": "stderr",
     "output_type": "stream",
     "text": [
      "/mnt/c/Users/lslat/Code/wafer-defect-detection/src/wdd/model/cnn_spp.py:112: UserWarning: Implicit dimension choice for softmax has been deprecated. Change the call to include dim=X as an argument.\n",
      "  logits=torch.nn.Softmax()(x)\n"
     ]
    }
   ],
   "source": [
    "y_trues,y_preds,y_pred_probs = net.predict(test_loader)"
   ]
  },
  {
   "cell_type": "code",
   "execution_count": 15,
   "metadata": {},
   "outputs": [],
   "source": [
    "acc=torchmetrics.Accuracy(num_classes=9,average='micro')\n",
    "bacc=torchmetrics.Accuracy(num_classes=9,average='macro')\n",
    "by_class_acc=torchmetrics.Accuracy(num_classes=9,average='none')\n",
    "f1=torchmetrics.F1Score(num_classes=9,average='micro')\n",
    "bf1=torchmetrics.F1Score(num_classes=9,average='macro')\n",
    "by_class_f1=torchmetrics.F1Score(num_classes=9,average='none')\n"
   ]
  },
  {
   "cell_type": "code",
   "execution_count": 16,
   "metadata": {},
   "outputs": [
    {
     "data": {
      "text/plain": [
       "tensor(0.7506)"
      ]
     },
     "execution_count": 16,
     "metadata": {},
     "output_type": "execute_result"
    }
   ],
   "source": [
    "acc(y_trues,y_preds)"
   ]
  },
  {
   "cell_type": "code",
   "execution_count": 17,
   "metadata": {},
   "outputs": [
    {
     "data": {
      "text/plain": [
       "tensor([0.9815, 0.1583, 0.2194, 0.5261, 0.8978, 0.0618, 0.4330, 0.6053, 0.7000])"
      ]
     },
     "execution_count": 17,
     "metadata": {},
     "output_type": "execute_result"
    }
   ],
   "source": [
    "by_class_acc(y_trues,y_preds)"
   ]
  },
  {
   "cell_type": "code",
   "execution_count": 18,
   "metadata": {},
   "outputs": [
    {
     "data": {
      "text/plain": [
       "tensor(0.7506)"
      ]
     },
     "execution_count": 18,
     "metadata": {},
     "output_type": "execute_result"
    }
   ],
   "source": [
    "f1(y_trues,y_preds)"
   ]
  },
  {
   "cell_type": "code",
   "execution_count": 19,
   "metadata": {},
   "outputs": [
    {
     "data": {
      "text/plain": [
       "tensor(0.5706)"
      ]
     },
     "execution_count": 19,
     "metadata": {},
     "output_type": "execute_result"
    }
   ],
   "source": [
    "bf1(y_trues,y_preds)"
   ]
  },
  {
   "cell_type": "code",
   "execution_count": 20,
   "metadata": {},
   "outputs": [
    {
     "data": {
      "text/plain": [
       "tensor([0.8508, 0.2558, 0.2460, 0.6307, 0.9161, 0.1033, 0.5957, 0.7132, 0.8235])"
      ]
     },
     "execution_count": 20,
     "metadata": {},
     "output_type": "execute_result"
    }
   ],
   "source": [
    "by_class_f1(y_trues,y_preds)"
   ]
  },
  {
   "cell_type": "code",
   "execution_count": 58,
   "metadata": {},
   "outputs": [
    {
     "data": {
      "text/plain": [
       "(144, 72, 36, 18, 9)"
      ]
     },
     "execution_count": 58,
     "metadata": {},
     "output_type": "execute_result"
    }
   ],
   "source": [
    "tuple(9*2**((i-1)) for i in range(5,0,-1))"
   ]
  },
  {
   "cell_type": "code",
   "execution_count": 48,
   "metadata": {},
   "outputs": [
    {
     "data": {
      "text/plain": [
       "1"
      ]
     },
     "execution_count": 48,
     "metadata": {},
     "output_type": "execute_result"
    }
   ],
   "source": [
    "(3-1)//2"
   ]
  },
  {
   "cell_type": "code",
   "execution_count": 35,
   "metadata": {},
   "outputs": [
    {
     "data": {
      "text/plain": [
       "[(1, 1), (3, 3), (5, 5)]"
      ]
     },
     "execution_count": 35,
     "metadata": {},
     "output_type": "execute_result"
    }
   ],
   "source": [
    "[(1+2*i,1+2*i) for i in range(3)]"
   ]
  },
  {
   "cell_type": "code",
   "execution_count": 53,
   "metadata": {},
   "outputs": [
    {
     "data": {
      "text/plain": [
       "torch.nn.modules.loss.CrossEntropyLoss"
      ]
     },
     "execution_count": 53,
     "metadata": {},
     "output_type": "execute_result"
    }
   ],
   "source": [
    "type(valid_loss_fn)"
   ]
  },
  {
   "cell_type": "code",
   "execution_count": 54,
   "metadata": {},
   "outputs": [
    {
     "data": {
      "text/plain": [
       "torch.utils.data.dataloader.DataLoader"
      ]
     },
     "execution_count": 54,
     "metadata": {},
     "output_type": "execute_result"
    }
   ],
   "source": [
    "type(valid_loader)"
   ]
  },
  {
   "cell_type": "code",
   "execution_count": null,
   "metadata": {},
   "outputs": [],
   "source": []
  }
 ],
 "metadata": {
  "kernelspec": {
   "display_name": "Python 3.9.7 ('env': venv)",
   "language": "python",
   "name": "python3"
  },
  "language_info": {
   "codemirror_mode": {
    "name": "ipython",
    "version": 3
   },
   "file_extension": ".py",
   "mimetype": "text/x-python",
   "name": "python",
   "nbconvert_exporter": "python",
   "pygments_lexer": "ipython3",
   "version": "3.9.7"
  },
  "orig_nbformat": 4,
  "vscode": {
   "interpreter": {
    "hash": "c4c643869c057a33c07a404a86ca28ecc549f16cbf899ad2f8ba070c0ad42a4c"
   }
  }
 },
 "nbformat": 4,
 "nbformat_minor": 2
}
